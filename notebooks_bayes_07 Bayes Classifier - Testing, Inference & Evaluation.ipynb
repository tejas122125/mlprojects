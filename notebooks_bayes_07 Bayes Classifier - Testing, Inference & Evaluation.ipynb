{
  "metadata": {
    "kernelspec": {
      "name": "python",
      "display_name": "Python (Pyodide)",
      "language": "python"
    },
    "language_info": {
      "codemirror_mode": {
        "name": "python",
        "version": 3
      },
      "file_extension": ".py",
      "mimetype": "text/x-python",
      "name": "python",
      "nbconvert_exporter": "python",
      "pygments_lexer": "ipython3",
      "version": "3.8"
    }
  },
  "nbformat_minor": 4,
  "nbformat": 4,
  "cells": [
    {
      "cell_type": "markdown",
      "source": "# Notebook Imports",
      "metadata": {}
    },
    {
      "cell_type": "code",
      "source": "import pandas as pd\nimport numpy as np\nimport matplotlib.pyplot as plt\nimport seaborn as sns\n\n%matplotlib inline",
      "metadata": {
        "tags": []
      },
      "execution_count": 1,
      "outputs": []
    },
    {
      "cell_type": "markdown",
      "source": "# Constants",
      "metadata": {}
    },
    {
      "cell_type": "code",
      "source": "TOKEN_SPAM_PROB_FILE = 'SpamData/03_Testing/prob-spam.txt'\nTOKEN_HAM_PROB_FILE = 'SpamData/03_Testing/prob-nonspam.txt'\nTOKEN_ALL_PROB_FILE = 'SpamData/03_Testing/prob-all-tokens.txt'\n\nTEST_FEATURE_MATRIX = 'SpamData/03_Testing/test-features.txt'\nTEST_TARGET_FILE = 'SpamData/03_Testing/test-target.txt'\n\nVOCAB_SIZE = 2500",
      "metadata": {
        "tags": []
      },
      "execution_count": 2,
      "outputs": []
    },
    {
      "cell_type": "markdown",
      "source": "# Load the Data",
      "metadata": {}
    },
    {
      "cell_type": "code",
      "source": "\nX_test = np.loadtxt(TEST_FEATURE_MATRIX, delimiter=' ')\n# Target\ny_test = np.loadtxt(TEST_TARGET_FILE, delimiter=' ')\nprob_token_spam = np.loadtxt(TOKEN_SPAM_PROB_FILE, delimiter=' ')\nprob_token_ham = np.loadtxt(TOKEN_HAM_PROB_FILE, delimiter=' ')\nprob_all_tokens = np.loadtxt(TOKEN_ALL_PROB_FILE, delimiter=' ')",
      "metadata": {
        "collapsed": true,
        "jupyter": {
          "outputs_hidden": true
        }
      },
      "execution_count": 3,
      "outputs": []
    },
    {
      "cell_type": "markdown",
      "source": "## calculating the joint probability",
      "metadata": {}
    },
    {
      "cell_type": "code",
      "source": "X_test.shape",
      "metadata": {},
      "execution_count": null,
      "outputs": [
        {
          "execution_count": 11,
          "output_type": "execute_result",
          "data": {
            "text/plain": [
              "(1723, 2500)"
            ]
          },
          "metadata": {}
        }
      ]
    },
    {
      "cell_type": "code",
      "source": "prob_token_spam.shape",
      "metadata": {},
      "execution_count": null,
      "outputs": [
        {
          "execution_count": 12,
          "output_type": "execute_result",
          "data": {
            "text/plain": [
              "(2500,)"
            ]
          },
          "metadata": {}
        }
      ]
    },
    {
      "cell_type": "code",
      "source": "print('shape of the dot product is ', X_test.dot(prob_token_spam).shape)",
      "metadata": {},
      "execution_count": 13,
      "outputs": [
        {
          "name": "stdout",
          "output_type": "stream",
          "text": "shape of the dot product is  (1723,)\n"
        }
      ]
    },
    {
      "cell_type": "markdown",
      "source": "\n\n$$P(Spam \\, | \\, X) = \\frac{P(X \\, | \\, Spam) \\, P(Spam)} {P(X)}$$",
      "metadata": {}
    },
    {
      "cell_type": "code",
      "source": "np.log(prob_token_spam)",
      "metadata": {},
      "execution_count": 15,
      "outputs": [
        {
          "execution_count": 15,
          "output_type": "execute_result",
          "data": {
            "text/plain": [
              "array([ -4.70632085,  -5.32161816,  -4.98677062, ...,  -9.20111798,\n",
              "        -8.70034269, -10.40509078])"
            ]
          },
          "metadata": {}
        }
      ]
    },
    {
      "cell_type": "markdown",
      "source": "## Joint probability in log format",
      "metadata": {}
    },
    {
      "cell_type": "code",
      "source": "joint_log_spam = X_test.dot(np.log(prob_token_spam) - np.log(prob_all_tokens)) + np.log(PROB_SPAM)",
      "metadata": {},
      "execution_count": 16,
      "outputs": []
    },
    {
      "cell_type": "markdown",
      "source": "$$P(Ham \\, | \\, X) = \\frac{P(X \\, | \\, Ham) \\, (1-P(Spam))} {P(X)}$$",
      "metadata": {}
    },
    {
      "cell_type": "code",
      "source": "joint_log_ham = X_test.dot(np.log(prob_token_ham) - np.log(prob_all_tokens)) + np.log(1-PROB_SPAM)",
      "metadata": {
        "collapsed": true,
        "jupyter": {
          "outputs_hidden": true
        }
      },
      "execution_count": 18,
      "outputs": []
    },
    {
      "cell_type": "markdown",
      "source": "\n\n$$P(Spam \\, | \\, X) \\, > \\, P(Ham \\, | \\, X)$$\n<center>**OR**</center>\n<br>\n$$P(Spam \\, | \\, X) \\, < \\, P(Ham \\, | \\, X)$$",
      "metadata": {}
    },
    {
      "cell_type": "code",
      "source": "prediction = joint_log_spam > joint_log_ham",
      "metadata": {
        "collapsed": true,
        "jupyter": {
          "outputs_hidden": true
        }
      },
      "execution_count": null,
      "outputs": []
    },
    {
      "cell_type": "markdown",
      "source": "### Simplify\n",
      "metadata": {}
    },
    {
      "cell_type": "code",
      "source": "joint_log_spam = X_test.dot(np.log(prob_token_spam)) + np.log(PROB_SPAM)\njoint_log_ham = X_test.dot(np.log(prob_token_ham)) + np.log(1-PROB_SPAM)",
      "metadata": {
        "collapsed": true,
        "jupyter": {
          "outputs_hidden": true
        }
      },
      "execution_count": 24,
      "outputs": []
    },
    {
      "cell_type": "markdown",
      "source": "## correctness of our model using test data",
      "metadata": {}
    },
    {
      "cell_type": "code",
      "source": "correct_docs = (y_test == prediction).sum()\nprint('Docs classified correctly', correct_docs)\nnumdocs_wrong = X_test.shape[0] - correct_docs\nprint('Docs classified incorrectly', numdocs_wrong)",
      "metadata": {},
      "execution_count": 25,
      "outputs": [
        {
          "name": "stdout",
          "output_type": "stream",
          "text": "Docs classified correctly 1671\n\nDocs classified incorrectly 52\n"
        }
      ]
    },
    {
      "cell_type": "code",
      "source": "fraction_wrong = numdocs_wrong/len(X_test)\nprint('Fraction classified incorrectly is {:.2%}'.format(fraction_wrong))\nprint('Accuracy of the model is {:.2%}'.format(1-fraction_wrong))",
      "metadata": {},
      "execution_count": 27,
      "outputs": [
        {
          "name": "stdout",
          "output_type": "stream",
          "text": "Fraction classified incorrectly is 3.02%\n\nAccuracy of the model is 96.98%\n"
        }
      ]
    },
    {
      "cell_type": "markdown",
      "source": "## Visualising the Results",
      "metadata": {}
    },
    {
      "cell_type": "code",
      "source": "\nyaxis_label = 'P(X | Spam)'\nxaxis_label = 'P(X | Nonspam)'\n\nlinedata = np.linspace(start=-14000, stop=1, num=1000)",
      "metadata": {
        "collapsed": true,
        "jupyter": {
          "outputs_hidden": true
        }
      },
      "execution_count": 28,
      "outputs": []
    },
    {
      "cell_type": "code",
      "source": "plt.figure(figsize=(11, 7))\nplt.xlabel(xaxis_label, fontsize=14)\nplt.ylabel(yaxis_label, fontsize=14)\n\nplt.xlim([-14000, 1])\nplt.ylim([-14000, 1])\n\nplt.scatter(joint_log_ham, joint_log_spam, color='navy', alpha=0.5, s=25)\nplt.plot(linedata, linedata, color='orange')\n\nplt.show()",
      "metadata": {},
      "execution_count": 30,
      "outputs": [
        {
          "output_type": "display_data",
          "data": {
            "image/png": "[encoded data removed]",
            "text/plain": [
              "<matplotlib.figure.Figure at 0x1224e5f28>"
            ]
          },
          "metadata": {}
        }
      ]
    },
    {
      "cell_type": "markdown",
      "source": "### False Positives and False Negatives",
      "metadata": {}
    },
    {
      "cell_type": "code",
      "source": "###### np.unique(prediction, return_counts=True)",
      "metadata": {},
      "execution_count": null,
      "outputs": []
    },
    {
      "cell_type": "code",
      "source": "true_pos = (y_test == 1) & (prediction == 1)",
      "metadata": {
        "collapsed": true,
        "jupyter": {
          "outputs_hidden": true
        }
      },
      "execution_count": 37,
      "outputs": []
    },
    {
      "cell_type": "code",
      "source": "true_pos.sum()",
      "metadata": {},
      "execution_count": 38,
      "outputs": [
        {
          "execution_count": 38,
          "output_type": "execute_result",
          "data": {
            "text/plain": [
              "548"
            ]
          },
          "metadata": {}
        }
      ]
    },
    {
      "cell_type": "markdown",
      "source": "**Challenge:** Create a numpy array that measures the False Positives for each datapoint. Call this variable ```false_pos```. Then work out how many false positives there were. After you've done that, do the same for the false negatives. Store those in a variable called ```false_neg```",
      "metadata": {}
    },
    {
      "cell_type": "code",
      "source": "false_pos = (y_test == 0) & (prediction == 1)\nfalse_pos.sum()",
      "metadata": {},
      "execution_count": 39,
      "outputs": [
        {
          "execution_count": 39,
          "output_type": "execute_result",
          "data": {
            "text/plain": [
              "12"
            ]
          },
          "metadata": {}
        }
      ]
    },
    {
      "cell_type": "code",
      "source": "false_neg = (y_test == 1) & (prediction == 0)\nfalse_neg.sum()",
      "metadata": {},
      "execution_count": 40,
      "outputs": [
        {
          "execution_count": 40,
          "output_type": "execute_result",
          "data": {
            "text/plain": [
              "40"
            ]
          },
          "metadata": {}
        }
      ]
    },
    {
      "cell_type": "markdown",
      "source": "## Recall Score",
      "metadata": {}
    },
    {
      "cell_type": "markdown",
      "source": "**Challenge:** Calculate the recall score. Store it in a variable called ```recall_score```. Print the value of the recall score as a percentage rounded to two decimal places.",
      "metadata": {}
    },
    {
      "cell_type": "code",
      "source": "recall_score = true_pos.sum() / (true_pos.sum() + false_neg.sum())\nprint('Recall score is {:.2%}'.format(recall_score))",
      "metadata": {},
      "execution_count": 41,
      "outputs": [
        {
          "name": "stdout",
          "output_type": "stream",
          "text": "Recall score is 93.20%\n"
        }
      ]
    },
    {
      "cell_type": "markdown",
      "source": "## Precision Score",
      "metadata": {}
    },
    {
      "cell_type": "markdown",
      "source": "**Challenge:** Calculate the precision of our naive bayes model. Store the result in a variable called ```precision_score```. Print out the precision as a decimal number rounded to three decimal places. ",
      "metadata": {}
    },
    {
      "cell_type": "code",
      "source": "precision_score = true_pos.sum() / (true_pos.sum() + false_pos.sum())\nprint('Precision score is {:.3}'.format(precision_score))",
      "metadata": {},
      "execution_count": 42,
      "outputs": [
        {
          "name": "stdout",
          "output_type": "stream",
          "text": "Precision score is 0.979\n"
        }
      ]
    },
    {
      "cell_type": "markdown",
      "source": "## F-Score or F1 Score",
      "metadata": {}
    },
    {
      "cell_type": "code",
      "source": "f1_score = 2 * (precision_score * recall_score) / (precision_score + recall_score)\nprint('F Score is {:.2}'.format(f1_score))",
      "metadata": {},
      "execution_count": 44,
      "outputs": [
        {
          "name": "stdout",
          "output_type": "stream",
          "text": "F Score is 0.95\n"
        }
      ]
    },
    {
      "cell_type": "code",
      "source": "",
      "metadata": {
        "collapsed": true,
        "jupyter": {
          "outputs_hidden": true
        }
      },
      "execution_count": null,
      "outputs": []
    },
    {
      "cell_type": "code",
      "source": "",
      "metadata": {
        "collapsed": true,
        "jupyter": {
          "outputs_hidden": true
        }
      },
      "execution_count": null,
      "outputs": []
    },
    {
      "cell_type": "code",
      "source": "",
      "metadata": {
        "collapsed": true,
        "jupyter": {
          "outputs_hidden": true
        }
      },
      "execution_count": null,
      "outputs": []
    }
  ]
}